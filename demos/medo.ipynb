{
 "cells": [
  {
   "cell_type": "code",
   "execution_count": null,
   "metadata": {},
   "outputs": [],
   "source": [
    "# Cell 1: Import necessary libraries\n",
    "from nilearn.maskers import NiftiLabelsMasker\n",
    "from scipy.ndimage import center_of_mass\n",
    "import nibabel as nib\n",
    "import cupy as cp  # GPU-accelerated NumPy\n",
    "import pandas as pd  # Replace with cudf or modin if needed\n",
    "from joblib import Parallel, delayed  # For parallel processing\n",
    "import matplotlib.pyplot as plt\n",
    "import os"
   ]
  },
  {
   "cell_type": "code",
   "execution_count": null,
   "metadata": {},
   "outputs": [],
   "source": [
    "# Cell 2: Define constants\n",
    "data_dir = '/home/zaz22/research-data-store/fmri/fmri_beijing'\n",
    "mapping_file = '/home/zaz22/research-data-store/rois/rois_3000_beijing/rois/brain_atoms.mnc.gz'  \n",
    "repetition_time = 2.0\n",
    "\n",
    "# List of subject IDs\n",
    "subject_ids = [\n",
    "    '9640133', '9783279', '9887336', '9890726', '4095748', '4136226', \n",
    "    '4221029', '4225073', '4241194', '4256491', '4265987', '4334113',\n",
    "    '4383707', '4475709', '4921428', '5150328', '5193577', '5575344', \n",
    "    '5600820', '5669389', '5993008', '6187322', '6383713', '6477085',\n",
    "    '6500128', '7011503', '7093319', '7135128', '7253183', '7390867', \n",
    "    '7407032', '7689953', '7994085', '8191384', '8278680',\n",
    "]"
   ]
  },
  {
   "cell_type": "code",
   "execution_count": null,
   "metadata": {},
   "outputs": [],
   "source": [
    "# Cell 3: Load ROI mapping file\n",
    "mapping_img = nib.load(mapping_file)\n",
    "mapping_data = cp.array(mapping_img.get_fdata())  # Use CuPy for GPU acceleration\n",
    "affine = mapping_img.affine\n",
    "\n",
    "# Extract unique ROI labels, excluding 0\n",
    "roi_labels = cp.unique(mapping_data)\n",
    "roi_labels = roi_labels[roi_labels != 0]\n",
    "print(f'Number of ROIs: {roi_labels.size}')"
   ]
  },
  {
   "cell_type": "code",
   "execution_count": null,
   "metadata": {},
   "outputs": [],
   "source": [
    "# Cell 4: Define a function to process a single subject\n",
    "def process_subject(subject_id):\n",
    "    \"\"\"\n",
    "    Load and process fMRI data for a single subject.\n",
    "    \"\"\"\n",
    "    # Load subject-specific fMRI data\n",
    "    subject_file = os.path.join(data_dir, f\"sub-{subject_id}_bold.nii.gz\")\n",
    "    if not os.path.exists(subject_file):\n",
    "        print(f\"File {subject_file} not found. Skipping...\")\n",
    "        return None\n",
    "    \n",
    "    # Load fMRI data using nibabel\n",
    "    fmri_img = nib.load(subject_file)\n",
    "    fmri_data = cp.array(fmri_img.get_fdata())  # Use CuPy for GPU acceleration\n",
    "\n",
    "    # Perform subject-specific processing (e.g., extract timeseries)\n",
    "    timeseries = cp.mean(fmri_data, axis=(0, 1, 2))  # Example operation\n",
    "    \n",
    "    return timeseries\n"
   ]
  },
  {
   "cell_type": "code",
   "execution_count": null,
   "metadata": {},
   "outputs": [],
   "source": [
    "# Cell 5: Process all subjects in parallel\n",
    "results = Parallel(n_jobs=-1, backend=\"multiprocessing\")(\n",
    "    delayed(process_subject)(subject_id) for subject_id in subject_ids\n",
    ")\n",
    "\n",
    "# Convert results into a DataFrame for analysis\n",
    "df = pd.DataFrame(results, index=subject_ids)\n",
    "df.columns = [f\"Timepoint_{i}\" for i in range(df.shape[1])]\n",
    "print(df.head())\n"
   ]
  },
  {
   "cell_type": "code",
   "execution_count": null,
   "metadata": {},
   "outputs": [],
   "source": [
    "# Cell 6: Analyze and visualize results\n",
    "def plot_average_timeseries(dataframe):\n",
    "    \"\"\"\n",
    "    Plot the average timeseries across all subjects.\n",
    "    \"\"\"\n",
    "    mean_timeseries = dataframe.mean(axis=0)\n",
    "    \n",
    "    # Plotting\n",
    "    plt.figure(figsize=(12, 6))\n",
    "    plt.plot(mean_timeseries, marker='o', linestyle='-', label='Average Timeseries')\n",
    "    plt.title('Average fMRI Timeseries Across Subjects', fontsize=16)\n",
    "    plt.xlabel('Timepoints', fontsize=14)\n",
    "    plt.ylabel('Signal Intensity', fontsize=14)\n",
    "    plt.grid(True, linestyle='--', alpha=0.6)\n",
    "    plt.legend(fontsize=12)\n",
    "    plt.show()\n",
    "\n",
    "# Call the visualization function\n",
    "plot_average_timeseries(df)"
   ]
  }
 ],
 "metadata": {
  "kernelspec": {
   "display_name": "adhd-cuda",
   "language": "python",
   "name": "python3"
  },
  "language_info": {
   "codemirror_mode": {
    "name": "ipython",
    "version": 3
   },
   "file_extension": ".py",
   "mimetype": "text/x-python",
   "name": "python",
   "nbconvert_exporter": "python",
   "pygments_lexer": "ipython3",
   "version": "3.9.20"
  }
 },
 "nbformat": 4,
 "nbformat_minor": 2
}
