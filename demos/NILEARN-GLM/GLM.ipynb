{
 "cells": [
  {
   "cell_type": "markdown",
   "metadata": {},
   "source": [
    "## Simple example of two-runs fMRI model fitting\n",
    "GLM to experimental data and visualizing the results.\n",
    "<br>  Source : https://nilearn.github.io/stable/auto_examples/04_glm_first_level/plot_two_runs_model.html#sphx-glr-auto-examples-04-glm-first-level-plot-two-runs-model-py"
   ]
  },
  {
   "cell_type": "code",
   "execution_count": null,
   "metadata": {},
   "outputs": [],
   "source": [
    "from pathlib import Path\n",
    "\n",
    "output_dir = Path.cwd() / \"results\" / \"plot_two_runs_model\"\n",
    "output_dir.mkdir(exist_ok=True, parents=True)\n",
    "print(f\"Output will be saved to: {output_dir}\")"
   ]
  },
  {
   "cell_type": "code",
   "execution_count": 1,
   "metadata": {},
   "outputs": [
    {
     "name": "stdout",
     "output_type": "stream",
     "text": [
      "GPU details:  {'device_name': 'METAL'}\n"
     ]
    }
   ],
   "source": [
    "import tensorflow as tf\n",
    "\n",
    "devices = tf.config.list_physical_devices()\n",
    "# print(\"\\nDevices: \", devices)\n",
    "\n",
    "gpus = tf.config.list_physical_devices('GPU')\n",
    "if gpus:\n",
    "  details = tf.config.experimental.get_device_details(gpus[0])\n",
    "  print(\"GPU details: \", details)"
   ]
  },
  {
   "cell_type": "code",
   "execution_count": 13,
   "metadata": {},
   "outputs": [
    {
     "name": "stdout",
     "output_type": "stream",
     "text": [
      "<class 'str'>\n",
      "/Users/user/nilearn_data/fiac_nilearn.glm/nipy-data-0.2/data/fiac/fiac0/run1.nii.gz\n"
     ]
    }
   ],
   "source": [
    "from nilearn.datasets import func\n",
    "\n",
    "data = func.fetch_fiac_first_level() # https://nilearn.github.io/stable/modules/generated/nilearn.datasets.fetch_fiac_first_level.html\n",
    "fmri_imgs = [data[\"func1\"], data[\"func2\"]]\n",
    "print(type(fmri_imgs[0]))\n",
    "print(fmri_imgs[0])"
   ]
  },
  {
   "cell_type": "code",
   "execution_count": 17,
   "metadata": {},
   "outputs": [],
   "source": [
    "from nilearn.image import mean_img # https://nilearn.github.io/stable/modules/generated/nilearn.image.mean_img.html#nilearn.image.mean_img\n",
    "\n",
    "mean_img_ = mean_img(fmri_imgs[0])"
   ]
  },
  {
   "cell_type": "code",
   "execution_count": 16,
   "metadata": {},
   "outputs": [
    {
     "name": "stdout",
     "output_type": "stream",
     "text": [
      "[               0             1             2             3             4   \\\n",
      "0    1.180236e-14 -7.781773e-14  2.827377e-14  7.678016e-14  5.187849e-15   \n",
      "1   -8.559950e-15 -7.055474e-14 -1.400719e-14  6.847960e-14  1.099824e-13   \n",
      "2   -2.879256e-14 -6.640446e-14  1.010334e-13  5.758512e-14  5.162890e+00   \n",
      "3   -3.346162e-14 -3.994643e-14  3.011469e-01  5.583422e-14  2.684270e+01   \n",
      "4    5.187849e-15 -2.412350e-14  2.474755e+01  7.444563e-14  2.482296e+01   \n",
      "..            ...           ...           ...           ...           ...   \n",
      "186 -1.028194e-06 -1.924004e+01 -2.536980e-14 -7.336089e-14 -1.745941e-02   \n",
      "187 -2.023353e-07 -1.945026e+01 -4.850081e-14 -5.610337e-14 -4.555051e-03   \n",
      "188 -1.678181e-08 -9.688080e+00 -2.436652e-14 -7.011521e-14 -5.444394e-04   \n",
      "189 -3.095373e-09 -4.606665e+00 -9.515953e-15 -7.169034e-14 -1.241630e-04   \n",
      "190 -2.354030e-10 -1.133119e+00 -2.247392e-14 -3.735251e-14 -1.249689e-05   \n",
      "\n",
      "           5         6         7         8         9         10        11  \\\n",
      "0    6.488857  6.488637  6.487979  6.486882  6.485346  6.483372  6.480959   \n",
      "1    6.488857  6.487364  6.482886  6.475424  6.464983  6.451567  6.435182   \n",
      "2    6.488857  6.483325  6.466740  6.439130  6.400542  6.351042  6.290713   \n",
      "3    6.488857  6.479215  6.450318  6.402252  6.335159  6.249240  6.144748   \n",
      "4    6.488857  6.470924  6.417224  6.328055  6.203909  6.045472  5.853619   \n",
      "..        ...       ...       ...       ...       ...       ...       ...   \n",
      "186  6.488857 -6.477978  6.445377 -6.391163  6.315519 -6.218698  6.101024   \n",
      "187  6.488857 -6.482379  6.462959 -6.430634  6.385470 -6.327558  6.257011   \n",
      "188  6.488857 -6.486854  6.480847 -6.470840  6.456839 -6.438852  6.416891   \n",
      "189  6.488857 -6.488419  6.487105 -6.484916  6.481852 -6.477913  6.473099   \n",
      "190  6.488857 -6.488637  6.487979 -6.486882  6.485346 -6.483372  6.480959   \n",
      "\n",
      "           12  \n",
      "0    6.478107  \n",
      "1    6.415836  \n",
      "2    6.219659  \n",
      "3    6.021996  \n",
      "4    5.629413  \n",
      "..        ...  \n",
      "186 -5.962893  \n",
      "187 -6.173972  \n",
      "188 -6.390969  \n",
      "189 -6.467412  \n",
      "190 -6.478107  \n",
      "\n",
      "[191 rows x 13 columns],                0             1             2             3             4   \\\n",
      "0    4.980335e-14 -3.558540e-14 -3.839008e-14  4.772821e-14  4.928456e-15   \n",
      "1    3.839008e-14 -1.684430e-14 -1.006443e-13  4.669064e-14  9.000917e-14   \n",
      "2    9.338127e-15 -5.447241e-15  2.075139e-15  7.574259e-14  5.161755e+00   \n",
      "3    2.360471e-14 -3.631494e-15  3.011469e-01  6.277297e-14  2.670726e+01   \n",
      "4    6.381054e-14 -8.041165e-15  2.381062e+01  3.553676e-14  2.450123e+01   \n",
      "..            ...           ...           ...           ...           ...   \n",
      "186 -1.918621e-06 -6.995015e-15  7.885530e-14 -1.296005e+01 -1.307788e-02   \n",
      "187 -3.801677e-07  4.494848e-15  5.395363e-14 -1.656702e+01 -3.384708e-03   \n",
      "188 -3.182346e-08  1.094939e-14  3.735251e-14 -9.332245e+00 -4.004365e-04   \n",
      "189 -5.902286e-09  2.140383e-14  8.300558e-15 -4.637634e+00 -9.078812e-05   \n",
      "190 -4.522332e-10 -2.473083e-14  2.930324e-14 -1.191856e+00 -9.068003e-06   \n",
      "\n",
      "           5         6         7         8         9         10        11  \\\n",
      "0    6.488857  6.488637  6.487979  6.486882  6.485346  6.483372  6.480959   \n",
      "1    6.488857  6.487364  6.482886  6.475424  6.464983  6.451567  6.435182   \n",
      "2    6.488857  6.483325  6.466740  6.439130  6.400542  6.351042  6.290713   \n",
      "3    6.488857  6.479215  6.450318  6.402252  6.335159  6.249240  6.144748   \n",
      "4    6.488857  6.470924  6.417224  6.328055  6.203909  6.045472  5.853619   \n",
      "..        ...       ...       ...       ...       ...       ...       ...   \n",
      "186  6.488857 -6.477978  6.445377 -6.391163  6.315519 -6.218698  6.101024   \n",
      "187  6.488857 -6.482379  6.462959 -6.430634  6.385470 -6.327558  6.257011   \n",
      "188  6.488857 -6.486854  6.480847 -6.470840  6.456839 -6.438852  6.416891   \n",
      "189  6.488857 -6.488419  6.487105 -6.484916  6.481852 -6.477913  6.473099   \n",
      "190  6.488857 -6.488637  6.487979 -6.486882  6.485346 -6.483372  6.480959   \n",
      "\n",
      "           12  \n",
      "0    6.478107  \n",
      "1    6.415836  \n",
      "2    6.219659  \n",
      "3    6.021996  \n",
      "4    5.629413  \n",
      "..        ...  \n",
      "186 -5.962893  \n",
      "187 -6.173972  \n",
      "188 -6.390969  \n",
      "189 -6.467412  \n",
      "190 -6.478107  \n",
      "\n",
      "[191 rows x 13 columns]]\n"
     ]
    }
   ],
   "source": [
    "import numpy as np\n",
    "import pandas as pd\n",
    "\n",
    "design_files = [data[\"design_matrix1\"], data[\"design_matrix2\"]]\n",
    "design_matrices = [pd.DataFrame(np.load(df)[\"X\"]) for df in design_files]\n",
    "\n",
    "#print(design_matrices)"
   ]
  },
  {
   "cell_type": "code",
   "execution_count": null,
   "metadata": {},
   "outputs": [],
   "source": []
  }
 ],
 "metadata": {
  "kernelspec": {
   "display_name": "nilean-demo-1",
   "language": "python",
   "name": "python3"
  },
  "language_info": {
   "codemirror_mode": {
    "name": "ipython",
    "version": 3
   },
   "file_extension": ".py",
   "mimetype": "text/x-python",
   "name": "python",
   "nbconvert_exporter": "python",
   "pygments_lexer": "ipython3",
   "version": "3.10.8"
  }
 },
 "nbformat": 4,
 "nbformat_minor": 2
}
