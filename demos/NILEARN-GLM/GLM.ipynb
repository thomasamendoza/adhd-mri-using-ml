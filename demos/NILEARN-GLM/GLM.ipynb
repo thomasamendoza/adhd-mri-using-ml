{
 "cells": [
  {
   "cell_type": "markdown",
   "metadata": {},
   "source": [
    "## Simple example of two-runs fMRI model fitting\n",
    "GLM to experimental data and visualizing the results.\n",
    "<br>  Source : https://nilearn.github.io/stable/auto_examples/04_glm_first_level/plot_two_runs_model.html#sphx-glr-auto-examples-04-glm-first-level-plot-two-runs-model-py"
   ]
  },
  {
   "cell_type": "code",
   "execution_count": 11,
   "metadata": {},
   "outputs": [
    {
     "name": "stdout",
     "output_type": "stream",
     "text": [
      "Output will be saved to: /Users/user/Documents/GitHub/adhd-mri-using-ml/demos/NILEARN-GLM/results/plot_two_runs_model\n"
     ]
    }
   ],
   "source": [
    "from pathlib import Path\n",
    "\n",
    "output_dir = Path.cwd() / \"results\" / \"plot_two_runs_model\"\n",
    "output_dir.mkdir(exist_ok=True, parents=True)\n",
    "print(f\"Output will be saved to: {output_dir}\")"
   ]
  },
  {
   "cell_type": "code",
   "execution_count": 1,
   "metadata": {},
   "outputs": [
    {
     "name": "stdout",
     "output_type": "stream",
     "text": [
      "GPU details:  {'device_name': 'METAL'}\n"
     ]
    }
   ],
   "source": [
    "import tensorflow as tf\n",
    "\n",
    "devices = tf.config.list_physical_devices()\n",
    "# print(\"\\nDevices: \", devices)\n",
    "\n",
    "gpus = tf.config.list_physical_devices('GPU')\n",
    "if gpus:\n",
    "  details = tf.config.experimental.get_device_details(gpus[0])\n",
    "  print(\"GPU details: \", details)"
   ]
  },
  {
   "cell_type": "code",
   "execution_count": 10,
   "metadata": {},
   "outputs": [
    {
     "name": "stdout",
     "output_type": "stream",
     "text": [
      "<class 'str'>\n",
      "data/fmri/beijing/fmri_X_1050345_session_1_run1.nii.gz\n"
     ]
    }
   ],
   "source": [
    "data1 = 'data/fmri/beijing/fmri_X_1050345_session_1_run1.nii.gz' # removing dependency from nilearn datasets\n",
    "data2 = 'data/fmri/beijing/fmri_X_1050975_session_1_run1.nii.gz'\n",
    "\n",
    "fmri_imgs = [data1, data2]\n",
    "print(type(fmri_imgs[0]))\n",
    "print(fmri_imgs[0])"
   ]
  },
  {
   "cell_type": "code",
   "execution_count": null,
   "metadata": {},
   "outputs": [],
   "source": []
  }
 ],
 "metadata": {
  "kernelspec": {
   "display_name": "nilean-demo-1",
   "language": "python",
   "name": "python3"
  },
  "language_info": {
   "codemirror_mode": {
    "name": "ipython",
    "version": 3
   },
   "file_extension": ".py",
   "mimetype": "text/x-python",
   "name": "python",
   "nbconvert_exporter": "python",
   "pygments_lexer": "ipython3",
   "version": "3.10.8"
  }
 },
 "nbformat": 4,
 "nbformat_minor": 2
}
