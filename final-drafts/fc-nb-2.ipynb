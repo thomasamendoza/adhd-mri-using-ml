{
 "cells": [
  {
   "cell_type": "code",
   "execution_count": 6,
   "metadata": {
    "ExecuteTime": {
     "end_time": "2024-10-16T18:23:49.531694Z",
     "start_time": "2024-10-16T18:23:49.528009Z"
    }
   },
   "outputs": [],
   "source": [
    "# Step 1: Import Necessary Libraries\n",
    "import os\n",
    "import numpy as np\n",
    "import pandas as pd\n",
    "import tensorflow as tf\n",
    "import nibabel as nib\n",
    "from nilearn.connectome import ConnectivityMeasure\n",
    "import matplotlib.pyplot as plt\n",
    "from scipy.ndimage import center_of_mass\n",
    "from sklearn.model_selection import train_test_split\n"
   ]
  },
  {
   "cell_type": "code",
   "execution_count": 7,
   "metadata": {
    "ExecuteTime": {
     "end_time": "2024-10-16T18:23:49.544127Z",
     "start_time": "2024-10-16T18:23:49.541268Z"
    }
   },
   "outputs": [
    {
     "name": "stdout",
     "output_type": "stream",
     "text": [
      "\n",
      "Devices:  [PhysicalDevice(name='/physical_device:CPU:0', device_type='CPU'), PhysicalDevice(name='/physical_device:GPU:0', device_type='GPU'), PhysicalDevice(name='/physical_device:GPU:1', device_type='GPU'), PhysicalDevice(name='/physical_device:GPU:2', device_type='GPU')]\n",
      "GPU details:  {'compute_capability': (8, 9), 'device_name': 'NVIDIA RTX 4000 Ada Generation'}\n"
     ]
    }
   ],
   "source": [
    "devices = tf.config.list_physical_devices()\n",
    "print(\"\\nDevices: \", devices)\n",
    "\n",
    "gpus = tf.config.list_physical_devices('GPU')\n",
    "if gpus:\n",
    "  details = tf.config.experimental.get_device_details(gpus[0])\n",
    "  print(\"GPU details: \", details)"
   ]
  },
  {
   "cell_type": "markdown",
   "metadata": {},
   "source": [
    "### NOTE: SITE '2' and '7' ARE NOT AVAILABLE"
   ]
  },
  {
   "cell_type": "code",
   "execution_count": 17,
   "metadata": {},
   "outputs": [
    {
     "name": "stdout",
     "output_type": "stream",
     "text": [
      "Directory: /home/zaz22/research-data-store/fmri, Number of files: 0\n",
      "Directory: /home/zaz22/research-data-store/fmri/fmri_beijing, Number of files: 195\n",
      "Directory: /home/zaz22/research-data-store/fmri/fmri_nyu, Number of files: 396\n",
      "Directory: /home/zaz22/research-data-store/fmri/fmri_pittsburgh, Number of files: 89\n",
      "Directory: /home/zaz22/research-data-store/fmri/fmri_ohsu, Number of files: 238\n",
      "Directory: /home/zaz22/research-data-store/fmri/fmri_neuroimage, Number of files: 48\n",
      "Directory: /home/zaz22/research-data-store/fmri/fmri_kki, Number of files: 84\n",
      "Directory: /home/zaz22/research-data-store/fmri/fmri_washu, Number of files: 124\n"
     ]
    }
   ],
   "source": [
    "path = '/home/zaz22/research-data-store/fmri'\n",
    "for root, dirs, files in os.walk(path):\n",
    "    print(f\"Directory: {root}, Number of files: {len(files)}\")\n"
   ]
  },
  {
   "cell_type": "code",
   "execution_count": null,
   "metadata": {},
   "outputs": [],
   "source": [
    "site_mapping = {\n",
    "    1: \"Peking University\",\n",
    "    3: \"Kennedy Krieger Institute\",\n",
    "    4: \"NeuroIMAGE Sample\",\n",
    "    5: \"New York University Child Study Center\",\n",
    "    6: \"Oregon Health & Science University\",\n",
    "    8: \"Washington University in St. Louis\"\n",
    "}"
   ]
  },
  {
   "cell_type": "code",
   "execution_count": null,
   "metadata": {},
   "outputs": [
    {
     "name": "stdout",
     "output_type": "stream",
     "text": [
      "Scanning directory: /home/zaz22/research-data-store/fmri\n",
      "fmri_beijing: 194 files\n",
      "fmri_nyu: 396 files\n",
      "fmri_ohsu: 237 files\n",
      "fmri_neuroimage: 48 files\n",
      "fmri_kki: 83 files\n",
      "fmri_washu: 124 files\n"
     ]
    }
   ],
   "source": [
    "# Path to the main folder containing all the sites (use absolute path if needed)\n",
    "main_folder = '/home/zaz22/research-data-store/fmri'  # Replace with the full path if necessary\n",
    "\n",
    "# Initialize the dictionary to store subject filenames by site\n",
    "site_subject_dict = {}\n",
    "\n",
    "# Traverse the folder structure and collect file names\n",
    "print(f\"Scanning directory: {main_folder}\")  # Debug statement\n",
    "\n",
    "for root, dirs, files in os.walk(main_folder):\n",
    "    if files:  # Ensure there are files in the current directory\n",
    "        site = os.path.basename(root)  # Get the site name (e.g., 'fmri_beijing')\n",
    "        # Filter for relevant file types (e.g., .nii.gz)\n",
    "        relevant_files = [file for file in files if file.endswith('.nii.gz')]\n",
    "\n",
    "        if relevant_files:  # Only process if there are relevant files\n",
    "            if site not in site_subject_dict:\n",
    "                site_subject_dict[site] = []  # Initialize the list if site not in dictionary\n",
    "\n",
    "            # Add the filenames to the site list\n",
    "            site_subject_dict[site].extend(relevant_files)\n",
    "\n",
    "# Print the dictionary summary to verify\n",
    "if site_subject_dict:\n",
    "    for site, filenames in site_subject_dict.items():\n",
    "        print(f\"{site}: {len(filenames)} files\")\n",
    "else:\n",
    "    print(\"No relevant files found.\")\n"
   ]
  },
  {
   "cell_type": "code",
   "execution_count": null,
   "metadata": {
    "ExecuteTime": {
     "end_time": "2024-10-16T18:23:49.565592Z",
     "start_time": "2024-10-16T18:23:49.560332Z"
    }
   },
   "outputs": [],
   "source": [
    "# Step 2: Define Paths and Subject IDs\n",
    "\n",
    "# LINUX SERVER\n",
    "\n",
    "\n",
    "# MAC\n",
    "# data_dir = '/Users/user/Documents/GitHub/adhd-mri-using-ml/data/fmri/beijing/'\n",
    "# mapping_file = '/Users/user/Documents/GitHub/adhd-mri-using-ml/data/rois/rois_3000_beijing/rois/brain_atoms.mnc.gz'\n",
    "# phenotypic_file = '/Users/user/Documents/GitHub/adhd-mri-using-ml/adhd200_preprocessed_phenotypics.tsv'\n",
    "\n",
    "subject_ids = ['9640133', '9783279', '9887336', '9890726', '4095748', '4136226', '4221029',\n",
    "    '4225073', '4241194', '4256491', '4265987', '4334113', '4383707', '4475709',\n",
    "    '4921428', '5150328', '5193577', '5575344', '5600820', '5669389', '5993008',\n",
    "    '6187322', '6383713', '6477085', '6500128', '7011503', '7093319', '7135128',\n",
    "    '7253183', '7390867', '7407032', '7689953', '7994085', '8191384', '8278680',]\n",
    "\n",
    "# subject_ids = [\n",
    "#     '9640133', '9783279', '9887336', '9890726', '4095748', '4136226', '4221029',\n",
    "#     '4225073', '4241194', '4256491', '4265987', '4334113', '4383707', '4475709',\n",
    "#     '4921428', '5150328', '5193577', '5575344', '5600820', '5669389', '5993008',\n",
    "#     '6187322', '6383713', '6477085', '6500128', '7011503', '7093319', '7135128',\n",
    "#     '7253183', '7390867', '7407032', '7689953', '7994085', '8191384', '8278680',\n",
    "#     '8328877', '8838009', '9002207', '9093997', '9210521', '9221927', '9578631',\n",
    "#     '3494778', '3554582', '3561920', '3562883', '3587000', '3593327', '3610134',\n",
    "#     '3624598', '3655623', '3672300', '3672854', '3691107', '3707771', '3712305',\n",
    "#     '3732101', '3739175', '3803759', '3809753', '3827352', '3856956', '3870624',\n",
    "#     '3889095', '3910672', '3930512', '3967265', '3976121', '3983607', '3993793',\n",
    "#     '3994098', '4006710', '4028266', '4048810', '4053388', '4053836', '4055710',\n",
    "#     '4073815', '4075719', '4091983', '2538839', '2559537', '2601519', '2659769',\n",
    "#     '2697768', '2703336', '2714224', '2737106', '2780647', '2833684', '2884672',\n",
    "#     '2897046', '2907951', '2910270', '2919220', '2940712', '2950754', '2984158',\n",
    "#     '3004580', '3086074', '3157406', '3194757', '3205761', '3212536', '3224401',\n",
    "#     '3233028', '3239413', '3248920', '3262042', '3269608', '3277313', '3291029',\n",
    "#     '3306863', '3308331', '3385520', '3390312', '3446674', '3473830', '1809715',\n",
    "#     '1843546', '1860323', '1875013', '1875711', '1879542', '1912810', '1916266',\n",
    "#     '1947991', '2031422', '2033178', '2081754', '2106109', '2107404', '2123983',\n",
    "#     '2140063', '2141250', '2174595', '2196753', '2207418', '2208591', '2228148',\n",
    "#     '2240562', '2249443', '2266806', '2268253', '2276801', '2296326', '2310449',\n",
    "#     '2367157', '2377207', '2408774', '2427408', '2493190', '2498847', '2524687',\n",
    "#     '2529026', '2535087', '1050345', '1050975', '1056121', '1068505', '1093743',\n",
    "#     '1094669', '1113498', '1117299', '1132854', '1133221', '1139030', '1159908',\n",
    "#     '1177160', '1186237', '1240299', '1258069', '1282248', '1302449', '1341865',\n",
    "#     '1356553', '1391181', '1399863', '1404738', '1408093', '1411536', '1469171',\n",
    "#     '1494102', '1561488', '1562298', '1628610', '1643780', '1662160', '1686092',\n",
    "#     '1689948', '1771270', '1791543', '1794770', '1805037'\n",
    "# ]\n",
    "\n"
   ]
  },
  {
   "cell_type": "code",
   "execution_count": 4,
   "metadata": {
    "ExecuteTime": {
     "end_time": "2024-10-16T18:29:21.496568Z",
     "start_time": "2024-10-16T18:23:49.571584Z"
    }
   },
   "outputs": [
    {
     "name": "stdout",
     "output_type": "stream",
     "text": [
      "Number of ROIs: 2843\n",
      "Loading functional image for 9640133 from /Users/user/Documents/GitHub/adhd-mri-using-ml/data/fmri/beijing/fmri_X_9640133_session_1_run1.nii.gz\n",
      "[NiftiLabelsMasker.wrapped] loading data from Minc1Image('/Users/user/Documents/GitHub/adhd-mri-using-ml/data/rois/rois_3000_beijing/rois/brain_atoms.mnc.gz')\n",
      "Resampling labels\n",
      "[NiftiLabelsMasker.transform_single_imgs] Loading data from Nifti1Image('/Users/user/Documents/GitHub/adhd-mri-using-ml/data/fmri/beijing/fmri_X_9640133_session_1_run1.nii.gz')\n",
      "[NiftiLabelsMasker.transform_single_imgs] Extracting region signals\n",
      "[NiftiLabelsMasker.transform_single_imgs] Cleaning extracted signals\n",
      "Extracted time series for 9640133 with shape (236, 2843)\n",
      "Loading functional image for 9783279 from /Users/user/Documents/GitHub/adhd-mri-using-ml/data/fmri/beijing/fmri_X_9783279_session_1_run1.nii.gz\n",
      "[NiftiLabelsMasker.wrapped] loading data from Minc1Image('/Users/user/Documents/GitHub/adhd-mri-using-ml/data/rois/rois_3000_beijing/rois/brain_atoms.mnc.gz')\n",
      "[NiftiLabelsMasker.transform_single_imgs] Loading data from Nifti1Image('/Users/user/Documents/GitHub/adhd-mri-using-ml/data/fmri/beijing/fmri_X_9783279_session_1_run1.nii.gz')\n",
      "[NiftiLabelsMasker.transform_single_imgs] Extracting region signals\n",
      "[NiftiLabelsMasker.transform_single_imgs] Cleaning extracted signals\n",
      "Extracted time series for 9783279 with shape (236, 2843)\n",
      "Loading functional image for 9887336 from /Users/user/Documents/GitHub/adhd-mri-using-ml/data/fmri/beijing/fmri_X_9887336_session_1_run1.nii.gz\n",
      "[NiftiLabelsMasker.wrapped] loading data from Minc1Image('/Users/user/Documents/GitHub/adhd-mri-using-ml/data/rois/rois_3000_beijing/rois/brain_atoms.mnc.gz')\n",
      "[NiftiLabelsMasker.transform_single_imgs] Loading data from Nifti1Image('/Users/user/Documents/GitHub/adhd-mri-using-ml/data/fmri/beijing/fmri_X_9887336_session_1_run1.nii.gz')\n",
      "[NiftiLabelsMasker.transform_single_imgs] Extracting region signals\n",
      "[NiftiLabelsMasker.transform_single_imgs] Cleaning extracted signals\n",
      "Extracted time series for 9887336 with shape (236, 2843)\n",
      "Loading functional image for 9890726 from /Users/user/Documents/GitHub/adhd-mri-using-ml/data/fmri/beijing/fmri_X_9890726_session_1_run1.nii.gz\n",
      "[NiftiLabelsMasker.wrapped] loading data from Minc1Image('/Users/user/Documents/GitHub/adhd-mri-using-ml/data/rois/rois_3000_beijing/rois/brain_atoms.mnc.gz')\n",
      "[NiftiLabelsMasker.transform_single_imgs] Loading data from Nifti1Image('/Users/user/Documents/GitHub/adhd-mri-using-ml/data/fmri/beijing/fmri_X_9890726_session_1_run1.nii.gz')\n",
      "[NiftiLabelsMasker.transform_single_imgs] Extracting region signals\n",
      "[NiftiLabelsMasker.transform_single_imgs] Cleaning extracted signals\n",
      "Extracted time series for 9890726 with shape (236, 2843)\n",
      "Loading functional image for 4095748 from /Users/user/Documents/GitHub/adhd-mri-using-ml/data/fmri/beijing/fmri_X_4095748_session_1_run1.nii.gz\n",
      "[NiftiLabelsMasker.wrapped] loading data from Minc1Image('/Users/user/Documents/GitHub/adhd-mri-using-ml/data/rois/rois_3000_beijing/rois/brain_atoms.mnc.gz')\n",
      "[NiftiLabelsMasker.transform_single_imgs] Loading data from Nifti1Image('/Users/user/Documents/GitHub/adhd-mri-using-ml/data/fmri/beijing/fmri_X_4095748_session_1_run1.nii.gz')\n",
      "[NiftiLabelsMasker.transform_single_imgs] Extracting region signals\n",
      "[NiftiLabelsMasker.transform_single_imgs] Cleaning extracted signals\n",
      "Extracted time series for 4095748 with shape (236, 2843)\n",
      "Loading functional image for 4136226 from /Users/user/Documents/GitHub/adhd-mri-using-ml/data/fmri/beijing/fmri_X_4136226_session_1_run1.nii.gz\n",
      "[NiftiLabelsMasker.wrapped] loading data from Minc1Image('/Users/user/Documents/GitHub/adhd-mri-using-ml/data/rois/rois_3000_beijing/rois/brain_atoms.mnc.gz')\n",
      "[NiftiLabelsMasker.transform_single_imgs] Loading data from Nifti1Image('/Users/user/Documents/GitHub/adhd-mri-using-ml/data/fmri/beijing/fmri_X_4136226_session_1_run1.nii.gz')\n",
      "[NiftiLabelsMasker.transform_single_imgs] Extracting region signals\n",
      "[NiftiLabelsMasker.transform_single_imgs] Cleaning extracted signals\n",
      "Extracted time series for 4136226 with shape (236, 2843)\n",
      "Loading functional image for 4221029 from /Users/user/Documents/GitHub/adhd-mri-using-ml/data/fmri/beijing/fmri_X_4221029_session_1_run1.nii.gz\n",
      "[NiftiLabelsMasker.wrapped] loading data from Minc1Image('/Users/user/Documents/GitHub/adhd-mri-using-ml/data/rois/rois_3000_beijing/rois/brain_atoms.mnc.gz')\n",
      "[NiftiLabelsMasker.transform_single_imgs] Loading data from Nifti1Image('/Users/user/Documents/GitHub/adhd-mri-using-ml/data/fmri/beijing/fmri_X_4221029_session_1_run1.nii.gz')\n",
      "[NiftiLabelsMasker.transform_single_imgs] Extracting region signals\n",
      "[NiftiLabelsMasker.transform_single_imgs] Cleaning extracted signals\n",
      "Extracted time series for 4221029 with shape (236, 2843)\n",
      "Loading functional image for 4225073 from /Users/user/Documents/GitHub/adhd-mri-using-ml/data/fmri/beijing/fmri_X_4225073_session_1_run1.nii.gz\n",
      "[NiftiLabelsMasker.wrapped] loading data from Minc1Image('/Users/user/Documents/GitHub/adhd-mri-using-ml/data/rois/rois_3000_beijing/rois/brain_atoms.mnc.gz')\n",
      "[NiftiLabelsMasker.transform_single_imgs] Loading data from Nifti1Image('/Users/user/Documents/GitHub/adhd-mri-using-ml/data/fmri/beijing/fmri_X_4225073_session_1_run1.nii.gz')\n",
      "[NiftiLabelsMasker.transform_single_imgs] Extracting region signals\n",
      "[NiftiLabelsMasker.transform_single_imgs] Cleaning extracted signals\n",
      "Extracted time series for 4225073 with shape (236, 2843)\n",
      "Loading functional image for 4241194 from /Users/user/Documents/GitHub/adhd-mri-using-ml/data/fmri/beijing/fmri_X_4241194_session_1_run1.nii.gz\n",
      "[NiftiLabelsMasker.wrapped] loading data from Minc1Image('/Users/user/Documents/GitHub/adhd-mri-using-ml/data/rois/rois_3000_beijing/rois/brain_atoms.mnc.gz')\n",
      "[NiftiLabelsMasker.transform_single_imgs] Loading data from Nifti1Image('/Users/user/Documents/GitHub/adhd-mri-using-ml/data/fmri/beijing/fmri_X_4241194_session_1_run1.nii.gz')\n",
      "[NiftiLabelsMasker.transform_single_imgs] Extracting region signals\n",
      "[NiftiLabelsMasker.transform_single_imgs] Cleaning extracted signals\n",
      "Extracted time series for 4241194 with shape (236, 2843)\n",
      "Loading functional image for 4256491 from /Users/user/Documents/GitHub/adhd-mri-using-ml/data/fmri/beijing/fmri_X_4256491_session_1_run1.nii.gz\n",
      "[NiftiLabelsMasker.wrapped] loading data from Minc1Image('/Users/user/Documents/GitHub/adhd-mri-using-ml/data/rois/rois_3000_beijing/rois/brain_atoms.mnc.gz')\n",
      "[NiftiLabelsMasker.transform_single_imgs] Loading data from Nifti1Image('/Users/user/Documents/GitHub/adhd-mri-using-ml/data/fmri/beijing/fmri_X_4256491_session_1_run1.nii.gz')\n",
      "[NiftiLabelsMasker.transform_single_imgs] Extracting region signals\n",
      "[NiftiLabelsMasker.transform_single_imgs] Cleaning extracted signals\n",
      "Extracted time series for 4256491 with shape (236, 2843)\n",
      "Loading functional image for 4265987 from /Users/user/Documents/GitHub/adhd-mri-using-ml/data/fmri/beijing/fmri_X_4265987_session_1_run1.nii.gz\n",
      "[NiftiLabelsMasker.wrapped] loading data from Minc1Image('/Users/user/Documents/GitHub/adhd-mri-using-ml/data/rois/rois_3000_beijing/rois/brain_atoms.mnc.gz')\n",
      "[NiftiLabelsMasker.transform_single_imgs] Loading data from Nifti1Image('/Users/user/Documents/GitHub/adhd-mri-using-ml/data/fmri/beijing/fmri_X_4265987_session_1_run1.nii.gz')\n",
      "[NiftiLabelsMasker.transform_single_imgs] Extracting region signals\n",
      "[NiftiLabelsMasker.transform_single_imgs] Cleaning extracted signals\n",
      "Extracted time series for 4265987 with shape (236, 2843)\n",
      "Loading functional image for 4334113 from /Users/user/Documents/GitHub/adhd-mri-using-ml/data/fmri/beijing/fmri_X_4334113_session_1_run1.nii.gz\n",
      "[NiftiLabelsMasker.wrapped] loading data from Minc1Image('/Users/user/Documents/GitHub/adhd-mri-using-ml/data/rois/rois_3000_beijing/rois/brain_atoms.mnc.gz')\n",
      "[NiftiLabelsMasker.transform_single_imgs] Loading data from Nifti1Image('/Users/user/Documents/GitHub/adhd-mri-using-ml/data/fmri/beijing/fmri_X_4334113_session_1_run1.nii.gz')\n",
      "[NiftiLabelsMasker.transform_single_imgs] Extracting region signals\n",
      "[NiftiLabelsMasker.transform_single_imgs] Cleaning extracted signals\n",
      "Extracted time series for 4334113 with shape (236, 2843)\n",
      "Loading functional image for 4383707 from /Users/user/Documents/GitHub/adhd-mri-using-ml/data/fmri/beijing/fmri_X_4383707_session_1_run1.nii.gz\n",
      "[NiftiLabelsMasker.wrapped] loading data from Minc1Image('/Users/user/Documents/GitHub/adhd-mri-using-ml/data/rois/rois_3000_beijing/rois/brain_atoms.mnc.gz')\n",
      "[NiftiLabelsMasker.transform_single_imgs] Loading data from Nifti1Image('/Users/user/Documents/GitHub/adhd-mri-using-ml/data/fmri/beijing/fmri_X_4383707_session_1_run1.nii.gz')\n",
      "[NiftiLabelsMasker.transform_single_imgs] Extracting region signals\n",
      "[NiftiLabelsMasker.transform_single_imgs] Cleaning extracted signals\n",
      "Extracted time series for 4383707 with shape (236, 2843)\n",
      "Loading functional image for 4475709 from /Users/user/Documents/GitHub/adhd-mri-using-ml/data/fmri/beijing/fmri_X_4475709_session_1_run1.nii.gz\n",
      "[NiftiLabelsMasker.wrapped] loading data from Minc1Image('/Users/user/Documents/GitHub/adhd-mri-using-ml/data/rois/rois_3000_beijing/rois/brain_atoms.mnc.gz')\n",
      "[NiftiLabelsMasker.transform_single_imgs] Loading data from Nifti1Image('/Users/user/Documents/GitHub/adhd-mri-using-ml/data/fmri/beijing/fmri_X_4475709_session_1_run1.nii.gz')\n",
      "[NiftiLabelsMasker.transform_single_imgs] Extracting region signals\n",
      "[NiftiLabelsMasker.transform_single_imgs] Cleaning extracted signals\n",
      "Extracted time series for 4475709 with shape (236, 2843)\n",
      "Loading functional image for 4921428 from /Users/user/Documents/GitHub/adhd-mri-using-ml/data/fmri/beijing/fmri_X_4921428_session_1_run1.nii.gz\n",
      "[NiftiLabelsMasker.wrapped] loading data from Minc1Image('/Users/user/Documents/GitHub/adhd-mri-using-ml/data/rois/rois_3000_beijing/rois/brain_atoms.mnc.gz')\n",
      "[NiftiLabelsMasker.transform_single_imgs] Loading data from Nifti1Image('/Users/user/Documents/GitHub/adhd-mri-using-ml/data/fmri/beijing/fmri_X_4921428_session_1_run1.nii.gz')\n",
      "[NiftiLabelsMasker.transform_single_imgs] Extracting region signals\n",
      "[NiftiLabelsMasker.transform_single_imgs] Cleaning extracted signals\n",
      "Extracted time series for 4921428 with shape (236, 2843)\n",
      "Loading functional image for 5150328 from /Users/user/Documents/GitHub/adhd-mri-using-ml/data/fmri/beijing/fmri_X_5150328_session_1_run1.nii.gz\n",
      "[NiftiLabelsMasker.wrapped] loading data from Minc1Image('/Users/user/Documents/GitHub/adhd-mri-using-ml/data/rois/rois_3000_beijing/rois/brain_atoms.mnc.gz')\n",
      "[NiftiLabelsMasker.transform_single_imgs] Loading data from Nifti1Image('/Users/user/Documents/GitHub/adhd-mri-using-ml/data/fmri/beijing/fmri_X_5150328_session_1_run1.nii.gz')\n",
      "[NiftiLabelsMasker.transform_single_imgs] Extracting region signals\n",
      "[NiftiLabelsMasker.transform_single_imgs] Cleaning extracted signals\n",
      "Extracted time series for 5150328 with shape (236, 2843)\n",
      "Loading functional image for 5193577 from /Users/user/Documents/GitHub/adhd-mri-using-ml/data/fmri/beijing/fmri_X_5193577_session_1_run1.nii.gz\n",
      "[NiftiLabelsMasker.wrapped] loading data from Minc1Image('/Users/user/Documents/GitHub/adhd-mri-using-ml/data/rois/rois_3000_beijing/rois/brain_atoms.mnc.gz')\n",
      "[NiftiLabelsMasker.transform_single_imgs] Loading data from Nifti1Image('/Users/user/Documents/GitHub/adhd-mri-using-ml/data/fmri/beijing/fmri_X_5193577_session_1_run1.nii.gz')\n",
      "[NiftiLabelsMasker.transform_single_imgs] Extracting region signals\n",
      "[NiftiLabelsMasker.transform_single_imgs] Cleaning extracted signals\n",
      "Extracted time series for 5193577 with shape (236, 2843)\n",
      "Loading functional image for 5575344 from /Users/user/Documents/GitHub/adhd-mri-using-ml/data/fmri/beijing/fmri_X_5575344_session_1_run1.nii.gz\n",
      "[NiftiLabelsMasker.wrapped] loading data from Minc1Image('/Users/user/Documents/GitHub/adhd-mri-using-ml/data/rois/rois_3000_beijing/rois/brain_atoms.mnc.gz')\n",
      "[NiftiLabelsMasker.transform_single_imgs] Loading data from Nifti1Image('/Users/user/Documents/GitHub/adhd-mri-using-ml/data/fmri/beijing/fmri_X_5575344_session_1_run1.nii.gz')\n",
      "[NiftiLabelsMasker.transform_single_imgs] Extracting region signals\n",
      "[NiftiLabelsMasker.transform_single_imgs] Cleaning extracted signals\n",
      "Extracted time series for 5575344 with shape (236, 2843)\n",
      "Loading functional image for 5600820 from /Users/user/Documents/GitHub/adhd-mri-using-ml/data/fmri/beijing/fmri_X_5600820_session_1_run1.nii.gz\n",
      "[NiftiLabelsMasker.wrapped] loading data from Minc1Image('/Users/user/Documents/GitHub/adhd-mri-using-ml/data/rois/rois_3000_beijing/rois/brain_atoms.mnc.gz')\n",
      "[NiftiLabelsMasker.transform_single_imgs] Loading data from Nifti1Image('/Users/user/Documents/GitHub/adhd-mri-using-ml/data/fmri/beijing/fmri_X_5600820_session_1_run1.nii.gz')\n",
      "[NiftiLabelsMasker.transform_single_imgs] Extracting region signals\n",
      "[NiftiLabelsMasker.transform_single_imgs] Cleaning extracted signals\n",
      "Extracted time series for 5600820 with shape (236, 2843)\n",
      "Loading functional image for 5669389 from /Users/user/Documents/GitHub/adhd-mri-using-ml/data/fmri/beijing/fmri_X_5669389_session_1_run1.nii.gz\n",
      "[NiftiLabelsMasker.wrapped] loading data from Minc1Image('/Users/user/Documents/GitHub/adhd-mri-using-ml/data/rois/rois_3000_beijing/rois/brain_atoms.mnc.gz')\n",
      "[NiftiLabelsMasker.transform_single_imgs] Loading data from Nifti1Image('/Users/user/Documents/GitHub/adhd-mri-using-ml/data/fmri/beijing/fmri_X_5669389_session_1_run1.nii.gz')\n",
      "[NiftiLabelsMasker.transform_single_imgs] Extracting region signals\n",
      "[NiftiLabelsMasker.transform_single_imgs] Cleaning extracted signals\n",
      "Extracted time series for 5669389 with shape (236, 2843)\n",
      "Loading functional image for 5993008 from /Users/user/Documents/GitHub/adhd-mri-using-ml/data/fmri/beijing/fmri_X_5993008_session_1_run1.nii.gz\n",
      "[NiftiLabelsMasker.wrapped] loading data from Minc1Image('/Users/user/Documents/GitHub/adhd-mri-using-ml/data/rois/rois_3000_beijing/rois/brain_atoms.mnc.gz')\n",
      "[NiftiLabelsMasker.transform_single_imgs] Loading data from Nifti1Image('/Users/user/Documents/GitHub/adhd-mri-using-ml/data/fmri/beijing/fmri_X_5993008_session_1_run1.nii.gz')\n",
      "[NiftiLabelsMasker.transform_single_imgs] Extracting region signals\n",
      "[NiftiLabelsMasker.transform_single_imgs] Cleaning extracted signals\n",
      "Extracted time series for 5993008 with shape (236, 2843)\n",
      "Loading functional image for 6187322 from /Users/user/Documents/GitHub/adhd-mri-using-ml/data/fmri/beijing/fmri_X_6187322_session_1_run1.nii.gz\n",
      "[NiftiLabelsMasker.wrapped] loading data from Minc1Image('/Users/user/Documents/GitHub/adhd-mri-using-ml/data/rois/rois_3000_beijing/rois/brain_atoms.mnc.gz')\n",
      "[NiftiLabelsMasker.transform_single_imgs] Loading data from Nifti1Image('/Users/user/Documents/GitHub/adhd-mri-using-ml/data/fmri/beijing/fmri_X_6187322_session_1_run1.nii.gz')\n",
      "[NiftiLabelsMasker.transform_single_imgs] Extracting region signals\n",
      "[NiftiLabelsMasker.transform_single_imgs] Cleaning extracted signals\n",
      "Extracted time series for 6187322 with shape (236, 2843)\n",
      "Loading functional image for 6383713 from /Users/user/Documents/GitHub/adhd-mri-using-ml/data/fmri/beijing/fmri_X_6383713_session_1_run1.nii.gz\n",
      "[NiftiLabelsMasker.wrapped] loading data from Minc1Image('/Users/user/Documents/GitHub/adhd-mri-using-ml/data/rois/rois_3000_beijing/rois/brain_atoms.mnc.gz')\n",
      "[NiftiLabelsMasker.transform_single_imgs] Loading data from Nifti1Image('/Users/user/Documents/GitHub/adhd-mri-using-ml/data/fmri/beijing/fmri_X_6383713_session_1_run1.nii.gz')\n",
      "[NiftiLabelsMasker.transform_single_imgs] Extracting region signals\n",
      "[NiftiLabelsMasker.transform_single_imgs] Cleaning extracted signals\n",
      "Extracted time series for 6383713 with shape (236, 2843)\n",
      "Loading functional image for 6477085 from /Users/user/Documents/GitHub/adhd-mri-using-ml/data/fmri/beijing/fmri_X_6477085_session_1_run1.nii.gz\n",
      "[NiftiLabelsMasker.wrapped] loading data from Minc1Image('/Users/user/Documents/GitHub/adhd-mri-using-ml/data/rois/rois_3000_beijing/rois/brain_atoms.mnc.gz')\n",
      "[NiftiLabelsMasker.transform_single_imgs] Loading data from Nifti1Image('/Users/user/Documents/GitHub/adhd-mri-using-ml/data/fmri/beijing/fmri_X_6477085_session_1_run1.nii.gz')\n",
      "[NiftiLabelsMasker.transform_single_imgs] Extracting region signals\n",
      "[NiftiLabelsMasker.transform_single_imgs] Cleaning extracted signals\n",
      "Extracted time series for 6477085 with shape (236, 2843)\n",
      "Loading functional image for 6500128 from /Users/user/Documents/GitHub/adhd-mri-using-ml/data/fmri/beijing/fmri_X_6500128_session_1_run1.nii.gz\n",
      "[NiftiLabelsMasker.wrapped] loading data from Minc1Image('/Users/user/Documents/GitHub/adhd-mri-using-ml/data/rois/rois_3000_beijing/rois/brain_atoms.mnc.gz')\n",
      "[NiftiLabelsMasker.transform_single_imgs] Loading data from Nifti1Image('/Users/user/Documents/GitHub/adhd-mri-using-ml/data/fmri/beijing/fmri_X_6500128_session_1_run1.nii.gz')\n",
      "[NiftiLabelsMasker.transform_single_imgs] Extracting region signals\n",
      "[NiftiLabelsMasker.transform_single_imgs] Cleaning extracted signals\n",
      "Extracted time series for 6500128 with shape (236, 2843)\n",
      "Loading functional image for 7011503 from /Users/user/Documents/GitHub/adhd-mri-using-ml/data/fmri/beijing/fmri_X_7011503_session_1_run1.nii.gz\n",
      "[NiftiLabelsMasker.wrapped] loading data from Minc1Image('/Users/user/Documents/GitHub/adhd-mri-using-ml/data/rois/rois_3000_beijing/rois/brain_atoms.mnc.gz')\n",
      "[NiftiLabelsMasker.transform_single_imgs] Loading data from Nifti1Image('/Users/user/Documents/GitHub/adhd-mri-using-ml/data/fmri/beijing/fmri_X_7011503_session_1_run1.nii.gz')\n",
      "[NiftiLabelsMasker.transform_single_imgs] Extracting region signals\n",
      "[NiftiLabelsMasker.transform_single_imgs] Cleaning extracted signals\n",
      "Extracted time series for 7011503 with shape (236, 2843)\n",
      "Loading functional image for 7093319 from /Users/user/Documents/GitHub/adhd-mri-using-ml/data/fmri/beijing/fmri_X_7093319_session_1_run1.nii.gz\n",
      "[NiftiLabelsMasker.wrapped] loading data from Minc1Image('/Users/user/Documents/GitHub/adhd-mri-using-ml/data/rois/rois_3000_beijing/rois/brain_atoms.mnc.gz')\n",
      "[NiftiLabelsMasker.transform_single_imgs] Loading data from Nifti1Image('/Users/user/Documents/GitHub/adhd-mri-using-ml/data/fmri/beijing/fmri_X_7093319_session_1_run1.nii.gz')\n",
      "[NiftiLabelsMasker.transform_single_imgs] Extracting region signals\n",
      "[NiftiLabelsMasker.transform_single_imgs] Cleaning extracted signals\n",
      "Extracted time series for 7093319 with shape (236, 2843)\n",
      "Loading functional image for 7135128 from /Users/user/Documents/GitHub/adhd-mri-using-ml/data/fmri/beijing/fmri_X_7135128_session_1_run1.nii.gz\n",
      "[NiftiLabelsMasker.wrapped] loading data from Minc1Image('/Users/user/Documents/GitHub/adhd-mri-using-ml/data/rois/rois_3000_beijing/rois/brain_atoms.mnc.gz')\n",
      "[NiftiLabelsMasker.transform_single_imgs] Loading data from Nifti1Image('/Users/user/Documents/GitHub/adhd-mri-using-ml/data/fmri/beijing/fmri_X_7135128_session_1_run1.nii.gz')\n",
      "[NiftiLabelsMasker.transform_single_imgs] Extracting region signals\n",
      "[NiftiLabelsMasker.transform_single_imgs] Cleaning extracted signals\n",
      "Extracted time series for 7135128 with shape (236, 2843)\n",
      "Loading functional image for 7253183 from /Users/user/Documents/GitHub/adhd-mri-using-ml/data/fmri/beijing/fmri_X_7253183_session_1_run1.nii.gz\n",
      "[NiftiLabelsMasker.wrapped] loading data from Minc1Image('/Users/user/Documents/GitHub/adhd-mri-using-ml/data/rois/rois_3000_beijing/rois/brain_atoms.mnc.gz')\n",
      "[NiftiLabelsMasker.transform_single_imgs] Loading data from Nifti1Image('/Users/user/Documents/GitHub/adhd-mri-using-ml/data/fmri/beijing/fmri_X_7253183_session_1_run1.nii.gz')\n",
      "[NiftiLabelsMasker.transform_single_imgs] Extracting region signals\n",
      "[NiftiLabelsMasker.transform_single_imgs] Cleaning extracted signals\n",
      "Extracted time series for 7253183 with shape (236, 2843)\n",
      "Loading functional image for 7390867 from /Users/user/Documents/GitHub/adhd-mri-using-ml/data/fmri/beijing/fmri_X_7390867_session_1_run1.nii.gz\n",
      "[NiftiLabelsMasker.wrapped] loading data from Minc1Image('/Users/user/Documents/GitHub/adhd-mri-using-ml/data/rois/rois_3000_beijing/rois/brain_atoms.mnc.gz')\n",
      "[NiftiLabelsMasker.transform_single_imgs] Loading data from Nifti1Image('/Users/user/Documents/GitHub/adhd-mri-using-ml/data/fmri/beijing/fmri_X_7390867_session_1_run1.nii.gz')\n",
      "[NiftiLabelsMasker.transform_single_imgs] Extracting region signals\n",
      "[NiftiLabelsMasker.transform_single_imgs] Cleaning extracted signals\n",
      "Extracted time series for 7390867 with shape (236, 2843)\n",
      "Loading functional image for 7407032 from /Users/user/Documents/GitHub/adhd-mri-using-ml/data/fmri/beijing/fmri_X_7407032_session_1_run1.nii.gz\n",
      "[NiftiLabelsMasker.wrapped] loading data from Minc1Image('/Users/user/Documents/GitHub/adhd-mri-using-ml/data/rois/rois_3000_beijing/rois/brain_atoms.mnc.gz')\n",
      "[NiftiLabelsMasker.transform_single_imgs] Loading data from Nifti1Image('/Users/user/Documents/GitHub/adhd-mri-using-ml/data/fmri/beijing/fmri_X_7407032_session_1_run1.nii.gz')\n",
      "[NiftiLabelsMasker.transform_single_imgs] Extracting region signals\n",
      "[NiftiLabelsMasker.transform_single_imgs] Cleaning extracted signals\n",
      "Extracted time series for 7407032 with shape (236, 2843)\n",
      "Loading functional image for 7689953 from /Users/user/Documents/GitHub/adhd-mri-using-ml/data/fmri/beijing/fmri_X_7689953_session_1_run1.nii.gz\n",
      "[NiftiLabelsMasker.wrapped] loading data from Minc1Image('/Users/user/Documents/GitHub/adhd-mri-using-ml/data/rois/rois_3000_beijing/rois/brain_atoms.mnc.gz')\n",
      "[NiftiLabelsMasker.transform_single_imgs] Loading data from Nifti1Image('/Users/user/Documents/GitHub/adhd-mri-using-ml/data/fmri/beijing/fmri_X_7689953_session_1_run1.nii.gz')\n",
      "[NiftiLabelsMasker.transform_single_imgs] Extracting region signals\n",
      "[NiftiLabelsMasker.transform_single_imgs] Cleaning extracted signals\n",
      "Extracted time series for 7689953 with shape (236, 2843)\n",
      "Loading functional image for 7994085 from /Users/user/Documents/GitHub/adhd-mri-using-ml/data/fmri/beijing/fmri_X_7994085_session_1_run1.nii.gz\n",
      "[NiftiLabelsMasker.wrapped] loading data from Minc1Image('/Users/user/Documents/GitHub/adhd-mri-using-ml/data/rois/rois_3000_beijing/rois/brain_atoms.mnc.gz')\n",
      "[NiftiLabelsMasker.transform_single_imgs] Loading data from Nifti1Image('/Users/user/Documents/GitHub/adhd-mri-using-ml/data/fmri/beijing/fmri_X_7994085_session_1_run1.nii.gz')\n",
      "[NiftiLabelsMasker.transform_single_imgs] Extracting region signals\n",
      "[NiftiLabelsMasker.transform_single_imgs] Cleaning extracted signals\n",
      "Extracted time series for 7994085 with shape (236, 2843)\n",
      "Loading functional image for 8191384 from /Users/user/Documents/GitHub/adhd-mri-using-ml/data/fmri/beijing/fmri_X_8191384_session_1_run1.nii.gz\n",
      "[NiftiLabelsMasker.wrapped] loading data from Minc1Image('/Users/user/Documents/GitHub/adhd-mri-using-ml/data/rois/rois_3000_beijing/rois/brain_atoms.mnc.gz')\n",
      "[NiftiLabelsMasker.transform_single_imgs] Loading data from Nifti1Image('/Users/user/Documents/GitHub/adhd-mri-using-ml/data/fmri/beijing/fmri_X_8191384_session_1_run1.nii.gz')\n",
      "[NiftiLabelsMasker.transform_single_imgs] Extracting region signals\n",
      "[NiftiLabelsMasker.transform_single_imgs] Cleaning extracted signals\n",
      "Extracted time series for 8191384 with shape (236, 2843)\n",
      "Loading functional image for 8278680 from /Users/user/Documents/GitHub/adhd-mri-using-ml/data/fmri/beijing/fmri_X_8278680_session_1_run1.nii.gz\n",
      "[NiftiLabelsMasker.wrapped] loading data from Minc1Image('/Users/user/Documents/GitHub/adhd-mri-using-ml/data/rois/rois_3000_beijing/rois/brain_atoms.mnc.gz')\n",
      "[NiftiLabelsMasker.transform_single_imgs] Loading data from Nifti1Image('/Users/user/Documents/GitHub/adhd-mri-using-ml/data/fmri/beijing/fmri_X_8278680_session_1_run1.nii.gz')\n",
      "[NiftiLabelsMasker.transform_single_imgs] Extracting region signals\n",
      "[NiftiLabelsMasker.transform_single_imgs] Cleaning extracted signals\n",
      "Extracted time series for 8278680 with shape (236, 2843)\n"
     ]
    }
   ],
   "source": [
    "# Step 3: Load Functional Images and Extract Time Series for All Subjects\n",
    "\n",
    "# Load the ROI mapping image (we'll use this to extract time series)\n",
    "mapping_img = nib.load(mapping_file)\n",
    "mapping_data = mapping_img.get_fdata()\n",
    "affine = mapping_img.affine\n",
    "\n",
    "# Get the unique labels (excluding 0)\n",
    "roi_labels = np.unique(mapping_data)\n",
    "roi_labels = roi_labels[roi_labels != 0]\n",
    "n_rois = len(roi_labels)\n",
    "\n",
    "print(f'Number of ROIs: {n_rois}')\n",
    "\n",
    "# Create a masker for extracting time series from ROIs\n",
    "from nilearn.maskers import NiftiLabelsMasker\n",
    "\n",
    "labels_masker = NiftiLabelsMasker(\n",
    "    labels_img=mapping_img,\n",
    "    standardize=True,\n",
    "    detrend=True,\n",
    "    t_r=2.0,  # Replace with your TR (repetition time)\n",
    "    verbose=1\n",
    ")\n",
    "\n",
    "# Initialize a list to store time series for all subjects\n",
    "all_tseries = []\n",
    "\n",
    "for sub_id in subject_ids:\n",
    "    # data/fmri/beijing/fmri_X_1050345_session_1_run1.nii.gz\n",
    "    func_file = os.path.join(data_dir, f'fmri_X_{sub_id}_session_1_run1.nii.gz')\n",
    "    print(f'Loading functional image for {sub_id} from {func_file}')\n",
    "    \n",
    "    # Load the functional image\n",
    "    func_img = nib.load(func_file)\n",
    "    \n",
    "    # Extract time series using the labels masker\n",
    "    tseries = labels_masker.fit_transform(func_img)\n",
    "    \n",
    "    all_tseries.append(tseries)\n",
    "    \n",
    "    print(f'Extracted time series for {sub_id} with shape {tseries.shape}')\n"
   ]
  },
  {
   "cell_type": "code",
   "execution_count": 5,
   "metadata": {
    "ExecuteTime": {
     "end_time": "2024-10-16T18:29:22.659090Z",
     "start_time": "2024-10-16T18:29:21.510096Z"
    }
   },
   "outputs": [],
   "source": [
    "# Step 4: Extract ROI Coordinates (Same as Before)\n",
    "\n",
    "# Extract ROI coordinates (center of mass)\n",
    "roi_coords = []\n",
    "\n",
    "for label in roi_labels:\n",
    "    # Create a binary mask for the current ROI\n",
    "    roi_mask = mapping_data == label\n",
    "\n",
    "    # Calculate the center of mass in voxel space\n",
    "    com_voxel = center_of_mass(roi_mask)\n",
    "\n",
    "    # Convert voxel coordinates to world coordinates using the affine matrix\n",
    "    com_world = nib.affines.apply_affine(affine, com_voxel)\n",
    "\n",
    "    roi_coords.append(com_world)\n"
   ]
  },
  {
   "cell_type": "code",
   "execution_count": 6,
   "metadata": {
    "ExecuteTime": {
     "end_time": "2024-10-16T18:29:22.670932Z",
     "start_time": "2024-10-16T18:29:22.667971Z"
    }
   },
   "outputs": [
    {
     "name": "stdout",
     "output_type": "stream",
     "text": [
      "Number of subjects: 35\n",
      "Number of ROIs in time series data: 2843\n"
     ]
    }
   ],
   "source": [
    "# Step 5: Verify Alignment Between Time Series and ROI Labels\n",
    "\n",
    "n_subjects = len(all_tseries)\n",
    "\n",
    "# Check that all time series have the same number of ROIs\n",
    "for idx, tseries in enumerate(all_tseries):\n",
    "    assert tseries.shape[1] == n_rois, f\"Mismatch in number of ROIs for subject {subject_ids[idx]}\"\n",
    "\n",
    "print(f'Number of subjects: {n_subjects}')\n",
    "print(f'Number of ROIs in time series data: {n_rois}')"
   ]
  },
  {
   "cell_type": "code",
   "execution_count": 28,
   "metadata": {
    "ExecuteTime": {
     "end_time": "2024-10-16T18:30:30.057084Z",
     "start_time": "2024-10-16T18:29:22.680116Z"
    }
   },
   "outputs": [
    {
     "ename": "TypeError",
     "evalue": "'int' object is not iterable",
     "output_type": "error",
     "traceback": [
      "\u001b[0;31m---------------------------------------------------------------------------\u001b[0m",
      "\u001b[0;31mTypeError\u001b[0m                                 Traceback (most recent call last)",
      "Cell \u001b[0;32mIn[28], line 10\u001b[0m\n\u001b[1;32m      7\u001b[0m \u001b[38;5;66;03m# Compute correlation matrices\u001b[39;00m\n\u001b[1;32m      8\u001b[0m all_correlation_matrices \u001b[38;5;241m=\u001b[39m correlation_measure\u001b[38;5;241m.\u001b[39mfit_transform(all_tseries)\n\u001b[0;32m---> 10\u001b[0m \u001b[38;5;28;01mfor\u001b[39;00m x \u001b[38;5;129;01min\u001b[39;00m \u001b[38;5;28mlen\u001b[39m(all_correlation_matrices):\n\u001b[1;32m     11\u001b[0m     correlation_matrix \u001b[38;5;241m=\u001b[39m all_correlation_matrices[x]\n\u001b[1;32m     13\u001b[0m     \u001b[38;5;66;03m# Create a figure and axis\u001b[39;00m\n",
      "\u001b[0;31mTypeError\u001b[0m: 'int' object is not iterable"
     ]
    }
   ],
   "source": [
    "# Step 6: Compute Functional Connectivity Matrices for All Subjects\n",
    "import seaborn as sns\n",
    "\n",
    "# Initialize the connectivity measure (using Pearson correlation)\n",
    "correlation_measure = ConnectivityMeasure(kind='correlation')\n",
    "\n",
    "# Compute correlation matrices\n",
    "all_correlation_matrices = correlation_measure.fit_transform(all_tseries)\n",
    "\n",
    "for x in range(len(all_correlation_matrices)):\n",
    "    correlation_matrix = all_correlation_matrices[x]\n",
    "\n",
    "    # Create a figure and axis\n",
    "    plt.figure(figsize=(5,4))\n",
    "\n",
    "    # Plot the heatmap using seaborn\n",
    "    sns.heatmap(correlation_matrix, vmin=-1, vmax=1, cmap='coolwarm', square=True, cbar=True)\n",
    "\n",
    "    # Add title and labels\n",
    "    plt.title(f'Subject {x+1} Functional Connectivity Matrix')\n",
    "    plt.xlabel('ROIs')\n",
    "    plt.ylabel('ROIs')\n",
    "\n",
    "    # Show the plot\n",
    "    plt.show()"
   ]
  },
  {
   "cell_type": "code",
   "execution_count": 8,
   "metadata": {
    "ExecuteTime": {
     "end_time": "2024-10-16T18:30:30.345765Z",
     "start_time": "2024-10-16T18:30:30.236941Z"
    }
   },
   "outputs": [
    {
     "name": "stdout",
     "output_type": "stream",
     "text": [
      "Group label counts:\n",
      "0    21\n",
      "3    10\n",
      "1     4\n",
      "Name: count, dtype: int64\n"
     ]
    }
   ],
   "source": [
    "# Step 7: Prepare Group Labels\n",
    "\n",
    "# Load phenotypic data\n",
    "phenotypic = pd.read_csv(phenotypic_file, sep='\\t')\n",
    "\n",
    "# make subject ids into ints\n",
    "int_subject_ids = [int(x) for x in subject_ids]\n",
    "\n",
    "# Ensure the subject IDs match\n",
    "phenotypic = phenotypic.set_index('ScanDir ID').loc[int_subject_ids].reset_index()\n",
    "\n",
    "group_labels = phenotypic['DX'].values\n",
    "\n",
    "# Check the distribution of group labels\n",
    "print('Group label counts:')\n",
    "print(pd.Series(group_labels).value_counts())\n"
   ]
  },
  {
   "cell_type": "markdown",
   "metadata": {},
   "source": [
    "### Diagnosis\n",
    "- 0 Typically Developing Children\n",
    "- 1 ADHD-Combined\n",
    "- 2 ADHD-Hyperactive/Impulsive\n",
    "- 3 ADHD-Inattentive"
   ]
  },
  {
   "cell_type": "markdown",
   "metadata": {},
   "source": [
    "### Ideas\n",
    "\n",
    "- combine all adhd classes into 1 and non-adhd to 0. Having more than 1 class of the adhd diagnosis is more difficult to diagnose from the cnn rather than just having 1 total ADHD class\n",
    "\n",
    "- we could trim ROIS down in future versions. [Paper discussing this](https://pubmed.ncbi.nlm.nih.gov/38476041/)\n",
    "![Alt text](/Users/user/Documents/GitHub/adhd-mri-using-ml/Subcortical-and-cortical-Regions-of-Interest-ROIs-Subcortical-ROIs-1a-Amy-amygdala.jpg \"a title\")"
   ]
  },
  {
   "cell_type": "code",
   "execution_count": 9,
   "metadata": {
    "ExecuteTime": {
     "end_time": "2024-10-16T18:58:55.919811Z",
     "start_time": "2024-10-16T18:58:55.914592Z"
    }
   },
   "outputs": [],
   "source": [
    "from keras import Sequential\n",
    "from keras.layers import Conv2D, MaxPooling2D, Flatten, Dense, Dropout"
   ]
  },
  {
   "cell_type": "code",
   "execution_count": 10,
   "metadata": {
    "ExecuteTime": {
     "end_time": "2024-10-16T18:59:42.246928Z",
     "start_time": "2024-10-16T18:58:58.216397Z"
    }
   },
   "outputs": [],
   "source": [
    "X = np.array(all_correlation_matrices)\n",
    "\n",
    "for label in group_labels:\n",
    "    if (label == '3'):\n",
    "        label = '1'\n",
    "y = group_labels\n",
    "\n",
    "X_train, X_test, y_train, y_test = train_test_split(X, y, test_size=0.2, random_state=42)"
   ]
  },
  {
   "cell_type": "code",
   "execution_count": 11,
   "metadata": {
    "ExecuteTime": {
     "end_time": "2024-10-16T18:59:50.681469Z",
     "start_time": "2024-10-16T18:59:50.676624Z"
    }
   },
   "outputs": [
    {
     "name": "stdout",
     "output_type": "stream",
     "text": [
      "Data shape: (35, 2843, 2843)\n",
      "Labels shape: (35,)\n",
      "New Data shape: (35, 2843, 2843)\n",
      "New Labels shape: (35,)\n"
     ]
    }
   ],
   "source": [
    "print(f'Data shape: {X.shape}')\n",
    "print(f'Labels shape: {y.shape}')\n",
    "\n",
    "X_train = X_train[..., np.newaxis]  # Shape: (n_samples, n_rois, n_rois, 1)\n",
    "X_test = X_test[..., np.newaxis]\n",
    "\n",
    "print(f'New Data shape: {X.shape}')\n",
    "print(f'New Labels shape: {y.shape}')"
   ]
  },
  {
   "cell_type": "code",
   "execution_count": 12,
   "metadata": {
    "ExecuteTime": {
     "end_time": "2024-10-16T19:00:30.116097Z",
     "start_time": "2024-10-16T18:59:52.381182Z"
    }
   },
   "outputs": [
    {
     "name": "stdout",
     "output_type": "stream",
     "text": [
      "X_train data type: float32\n",
      "y_train data type: object\n",
      "new X_train data type: float64\n",
      "new y_train data type: float64\n"
     ]
    }
   ],
   "source": [
    "print(f'X_train data type: {X_train.dtype}')\n",
    "print(f'y_train data type: {y_train.dtype}')\n",
    "\n",
    "X_train = X_train.astype(float)\n",
    "y_train = y_train.astype(float)\n",
    "\n",
    "print(f'new X_train data type: {X_train.dtype}')\n",
    "print(f'new y_train data type: {y_train.dtype}')\n"
   ]
  },
  {
   "cell_type": "code",
   "execution_count": 16,
   "metadata": {},
   "outputs": [],
   "source": [
    "INPUTSHAPE = X_train.shape[1:]\n",
    "model = Sequential([\n",
    "    Conv2D(32, (3, 3), activation='relu', input_shape=(INPUTSHAPE)),\n",
    "    MaxPooling2D((2, 2)),\n",
    "    Conv2D(64, (3, 3), activation='relu'),\n",
    "    MaxPooling2D((2, 2)),\n",
    "    Conv2D(128, (3, 3), activation='relu'),\n",
    "    MaxPooling2D((2, 2)),\n",
    "    Flatten(),\n",
    "    Dense(128, activation='relu'),\n",
    "    Dropout(0.5),\n",
    "    Dense(1, activation='sigmoid')\n",
    "])\n",
    "model.compile(optimizer='adam', loss='mean_squared_error', metrics=['accuracy'])"
   ]
  },
  {
   "cell_type": "code",
   "execution_count": 17,
   "metadata": {},
   "outputs": [
    {
     "name": "stdout",
     "output_type": "stream",
     "text": [
      "Epoch 1/5\n",
      "\u001b[1m6/6\u001b[0m \u001b[32m━━━━━━━━━━━━━━━━━━━━\u001b[0m\u001b[37m\u001b[0m \u001b[1m135s\u001b[0m 20s/step - accuracy: 0.7631 - loss: 1.2907 - val_accuracy: 0.1667 - val_loss: 6.1667\n",
      "Epoch 2/5\n",
      "\u001b[1m6/6\u001b[0m \u001b[32m━━━━━━━━━━━━━━━━━━━━\u001b[0m\u001b[37m\u001b[0m \u001b[1m128s\u001b[0m 21s/step - accuracy: 0.8477 - loss: 0.8021 - val_accuracy: 0.1667 - val_loss: 6.1667\n",
      "Epoch 3/5\n",
      "\u001b[1m6/6\u001b[0m \u001b[32m━━━━━━━━━━━━━━━━━━━━\u001b[0m\u001b[37m\u001b[0m \u001b[1m135s\u001b[0m 22s/step - accuracy: 0.8030 - loss: 1.2182 - val_accuracy: 0.1667 - val_loss: 6.1667\n",
      "Epoch 4/5\n",
      "\u001b[1m6/6\u001b[0m \u001b[32m━━━━━━━━━━━━━━━━━━━━\u001b[0m\u001b[37m\u001b[0m \u001b[1m126s\u001b[0m 20s/step - accuracy: 0.7614 - loss: 0.8313 - val_accuracy: 0.1667 - val_loss: 6.1667\n",
      "Epoch 5/5\n",
      "\u001b[1m6/6\u001b[0m \u001b[32m━━━━━━━━━━━━━━━━━━━━\u001b[0m\u001b[37m\u001b[0m \u001b[1m144s\u001b[0m 24s/step - accuracy: 0.8637 - loss: 0.5051 - val_accuracy: 0.1667 - val_loss: 6.1667\n"
     ]
    }
   ],
   "source": [
    "history = model.fit(X_train, y_train, epochs=5, batch_size=4, validation_split=0.2)"
   ]
  },
  {
   "cell_type": "code",
   "execution_count": 19,
   "metadata": {},
   "outputs": [
    {
     "name": "stdout",
     "output_type": "stream",
     "text": [
      "\u001b[1m1/1\u001b[0m \u001b[32m━━━━━━━━━━━━━━━━━━━━\u001b[0m\u001b[37m\u001b[0m \u001b[1m3s\u001b[0m 3s/step - accuracy: 0.5714 - loss: 3.8571\n",
      "Test accuracy: 0.5714285969734192\n"
     ]
    }
   ],
   "source": [
    "X_test = X_test.astype(float)\n",
    "y_test = y_test.astype(float)\n",
    "test_loss, test_acc = model.evaluate(X_test, y_test)\n",
    "print(f'Test accuracy: {test_acc}')"
   ]
  },
  {
   "cell_type": "code",
   "execution_count": 20,
   "metadata": {},
   "outputs": [
    {
     "data": {
      "image/png": "[encoded data removed]",
      "text/plain": [
       "<Figure size 640x480 with 1 Axes>"
      ]
     },
     "metadata": {},
     "output_type": "display_data"
    }
   ],
   "source": [
    "plt.plot(history.history['accuracy'], label='accuracy')\n",
    "plt.plot(history.history['val_accuracy'], label = 'val_accuracy')\n",
    "plt.xlabel('Epoch')\n",
    "plt.ylabel('Accuracy')\n",
    "plt.ylim([0, 1])\n",
    "plt.legend(loc='lower right')\n",
    "plt.show()"
   ]
  }
 ],
 "metadata": {
  "kernelspec": {
   "display_name": "adhd",
   "language": "python",
   "name": "python3"
  },
  "language_info": {
   "codemirror_mode": {
    "name": "ipython",
    "version": 3
   },
   "file_extension": ".py",
   "mimetype": "text/x-python",
   "name": "python",
   "nbconvert_exporter": "python",
   "pygments_lexer": "ipython3",
   "version": "3.10.15"
  }
 },
 "nbformat": 4,
 "nbformat_minor": 2
}
