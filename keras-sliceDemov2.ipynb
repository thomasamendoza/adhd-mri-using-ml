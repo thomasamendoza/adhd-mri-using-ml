{
 "cells": [
  {
   "cell_type": "markdown",
   "metadata": {},
   "source": [
    "### Goal: Generate slices of fmri scans, then use a classfier to train on newly created slices"
   ]
  },
  {
   "cell_type": "code",
   "execution_count": 26,
   "metadata": {},
   "outputs": [],
   "source": [
    "import os\n",
    "import tensorflow as tf\n",
    "import matplotlib.pyplot as plt\n",
    "import nibabel as nib\n",
    "from pathlib import Path\n"
   ]
  },
  {
   "cell_type": "markdown",
   "metadata": {},
   "source": [
    "# SLICE GENERATOR"
   ]
  },
  {
   "cell_type": "code",
   "execution_count": 27,
   "metadata": {},
   "outputs": [
    {
     "name": "stdout",
     "output_type": "stream",
     "text": [
      "GPU details:  {'device_name': 'METAL'}\n"
     ]
    }
   ],
   "source": [
    "devices = tf.config.list_physical_devices()\n",
    "# print(\"\\nDevices: \", devices)\n",
    "\n",
    "gpus = tf.config.list_physical_devices('GPU')\n",
    "if gpus:\n",
    "  details = tf.config.experimental.get_device_details(gpus[0])\n",
    "  print(\"GPU details: \", details)"
   ]
  },
  {
   "cell_type": "code",
   "execution_count": 28,
   "metadata": {},
   "outputs": [],
   "source": [
    "test_img_path = os.path.join('data','fmri','beijing')\n",
    "savepath = os.path.join('outputs','slice-outputs')\n",
    "fmri_files = Path(\"data/fmri/beijing\").glob(\"*.nii.gz\")\n",
    "count = 0\n",
    "\n",
    "def slice_gen(imagename,x):\n",
    "    \n",
    "    slice_data = test_img_data[:,:,20,x]\n",
    "\n",
    "    plt.imshow(slice_data, cmap='gray')\n",
    "    plt.axis('off')  # Turn off axis labels\n",
    "    plt.savefig(savepath + \"/\"+ imagename, bbox_inches='tight', pad_inches=0)\n",
    "    plt.close()\n",
    "\n",
    "for files in fmri_files:\n",
    "    imgname = 'output' + str(count) + '.png'\n",
    "    test_img = nib.load(str(files))\n",
    "    test_img_data = test_img.get_fdata()\n",
    "    #for x in range (0, 3):\n",
    "    slice_gen(imgname,count)\n",
    "    count+=1"
   ]
  },
  {
   "cell_type": "markdown",
   "metadata": {},
   "source": [
    "# CLASSIFIER"
   ]
  },
  {
   "cell_type": "code",
   "execution_count": null,
   "metadata": {},
   "outputs": [],
   "source": []
  }
 ],
 "metadata": {
  "kernelspec": {
   "display_name": "keras-ADHD",
   "language": "python",
   "name": "python3"
  },
  "language_info": {
   "codemirror_mode": {
    "name": "ipython",
    "version": 3
   },
   "file_extension": ".py",
   "mimetype": "text/x-python",
   "name": "python",
   "nbconvert_exporter": "python",
   "pygments_lexer": "ipython3",
   "version": "3.8.18"
  }
 },
 "nbformat": 4,
 "nbformat_minor": 2
}
