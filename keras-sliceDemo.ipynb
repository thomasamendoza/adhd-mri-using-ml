{
 "cells": [
  {
   "cell_type": "code",
   "execution_count": 1,
   "metadata": {},
   "outputs": [],
   "source": [
    "import os\n",
    "import datetime\n",
    "import matplotlib.pyplot as plt\n",
    "import nibabel as nib\n",
    "from PIL import Image as im "
   ]
  },
  {
   "cell_type": "markdown",
   "metadata": {},
   "source": [
    "## Useful references\n",
    "* Image Slicing: https://nipy.org/nibabel/nibabel_images.html#image-slicing\n",
    "* Nibabel Demo: https://www.youtube.com/watch?v=Y6ulmOlW1FI"
   ]
  },
  {
   "cell_type": "code",
   "execution_count": 2,
   "metadata": {},
   "outputs": [
    {
     "name": "stdout",
     "output_type": "stream",
     "text": [
      "(53, 64, 46, 236)\n"
     ]
    }
   ],
   "source": [
    "# LOADING IMAGES AND VERIFYING WITH SHAPE\n",
    "\n",
    "test_img_path = 'data/fmri/beijing/fmri_X_1050345_session_1_run1.nii.gz'\n",
    "test_img = nib.load(test_img_path)\n",
    "print(test_img.shape)"
   ]
  },
  {
   "cell_type": "code",
   "execution_count": 3,
   "metadata": {},
   "outputs": [],
   "source": [
    "# LOADING FULL IMG DATA TO DISPLAY\n",
    "test_img_data = test_img.get_fdata()"
   ]
  },
  {
   "cell_type": "markdown",
   "metadata": {},
   "source": [
    "### Below is an optional slice identifying cell."
   ]
  },
  {
   "cell_type": "code",
   "execution_count": 4,
   "metadata": {},
   "outputs": [],
   "source": [
    "# Selecting slices\n",
    "# For an axial slice, you might select the middle slice along the z-axis\n",
    "axial_slice = test_img_data[:, :, test_img_data.shape[2] // 2]\n",
    "\n",
    "# For a coronal slice, you might select the middle slice along the x-axis\n",
    "coronal_slice = test_img_data[test_img_data.shape[0] // 2, :, :]"
   ]
  },
  {
   "cell_type": "code",
   "execution_count": 5,
   "metadata": {},
   "outputs": [],
   "source": [
    "def plot_slice_c(fdata,t): # channels\n",
    "    plt.imshow(fdata[:,:,20,t].T, cmap='gray')\n",
    "    plt.title('Slice at channel %d' % t)\n",
    "    plt.xlabel('First axis')\n",
    "    plt.ylabel('Second axis')\n",
    "    plt.colorbar(label='Signal intensity')\n",
    "    plt.show()\n",
    "\n",
    "#plot_slice_c(test_img_data,25)\n"
   ]
  },
  {
   "cell_type": "code",
   "execution_count": 7,
   "metadata": {},
   "outputs": [
    {
     "name": "stdout",
     "output_type": "stream",
     "text": [
      "<class 'numpy.ndarray'>\n",
      "[[15.19563866 16.30930328 17.64369392 ... 13.1584053   6.85860395\n",
      "   7.43003225]\n",
      " [20.23666382 13.55675411  9.12251186 ...  9.09347153  6.83056116\n",
      "  10.4292326 ]\n",
      " [22.39483643 20.98157883 23.17163086 ... 20.39398193 30.14627647\n",
      "  33.52651215]\n",
      " ...\n",
      " [19.90590668 20.91338539 18.50654602 ...  8.67809963  8.6192255\n",
      "   9.06959343]\n",
      " [18.1759243  20.16581726 18.25588989 ...  6.83554602  6.69383097\n",
      "   6.93149757]\n",
      " [18.32654572 17.54153824 15.27063084 ...  3.67929053  3.33005762\n",
      "   5.50443363]]\n"
     ]
    },
    {
     "data": {
      "text/plain": [
       "'\\nThe data is output as a numpy array, we will need to use Pillow, a python imaging library to save the array as an image.\\n'"
      ]
     },
     "execution_count": 7,
     "metadata": {},
     "output_type": "execute_result"
    }
   ],
   "source": [
    "# what kind of data is the fdata of the mri slice?\n",
    "slice_data = test_img_data[:,:,20,25]\n",
    "print(type(slice_data))\n",
    "print(test_img_data[:,:,20,25])\n",
    "\n",
    "\"\"\"\n",
    "The data is output as a numpy array, we will need to use Pillow, a python imaging library to save the array as an image.\n",
    "\"\"\""
   ]
  },
  {
   "cell_type": "code",
   "execution_count": 12,
   "metadata": {},
   "outputs": [],
   "source": [
    "demopath = os.path.join('outputs', 'demos')\n",
    "imagename = str(datetime.datetime.now()) + '.png'\n",
    "\n",
    "plt.imshow(slice_data, cmap='gray')\n",
    "plt.axis('off')  # Turn off axis labels\n",
    "plt.savefig(demopath + \"/\"+ imagename, bbox_inches='tight', pad_inches=0)\n",
    "plt.close()"
   ]
  }
 ],
 "metadata": {
  "kernelspec": {
   "display_name": "keras-ADHD",
   "language": "python",
   "name": "python3"
  },
  "language_info": {
   "codemirror_mode": {
    "name": "ipython",
    "version": 3
   },
   "file_extension": ".py",
   "mimetype": "text/x-python",
   "name": "python",
   "nbconvert_exporter": "python",
   "pygments_lexer": "ipython3",
   "version": "3.8.18"
  }
 },
 "nbformat": 4,
 "nbformat_minor": 2
}
