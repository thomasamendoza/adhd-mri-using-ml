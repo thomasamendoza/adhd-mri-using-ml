{
 "cells": [
  {
   "cell_type": "code",
   "execution_count": 2,
   "metadata": {},
   "outputs": [],
   "source": [
    "import matplotlib.pyplot as plt\n",
    "import nibabel as nib\n",
    "from PIL import Image as im "
   ]
  },
  {
   "cell_type": "markdown",
   "metadata": {},
   "source": [
    "## Useful references\n",
    "* Image Slicing: https://nipy.org/nibabel/nibabel_images.html#image-slicing\n",
    "* Nibabel Demo: https://www.youtube.com/watch?v=Y6ulmOlW1FI"
   ]
  },
  {
   "cell_type": "code",
   "execution_count": 3,
   "metadata": {},
   "outputs": [
    {
     "name": "stdout",
     "output_type": "stream",
     "text": [
      "(53, 64, 46, 236)\n"
     ]
    }
   ],
   "source": [
    "# LOADING IMAGES AND VERIFYING WITH SHAPE\n",
    "\n",
    "test_img_path = 'data/fmri/beijing/fmri_X_1050345_session_1_run1.nii.gz'\n",
    "test_img = nib.load(test_img_path)\n",
    "print(test_img.shape)"
   ]
  },
  {
   "cell_type": "code",
   "execution_count": 4,
   "metadata": {},
   "outputs": [],
   "source": [
    "# LOADING FULL IMG DATA TO DISPLAY\n",
    "test_img_data = test_img.get_fdata()"
   ]
  },
  {
   "cell_type": "code",
   "execution_count": 5,
   "metadata": {},
   "outputs": [],
   "source": [
    "# Selecting slices\n",
    "# For an axial slice, you might select the middle slice along the z-axis\n",
    "axial_slice = test_img_data[:, :, test_img_data.shape[2] // 2]\n",
    "\n",
    "# For a coronal slice, you might select the middle slice along the x-axis\n",
    "coronal_slice = test_img_data[test_img_data.shape[0] // 2, :, :]"
   ]
  },
  {
   "cell_type": "code",
   "execution_count": 22,
   "metadata": {},
   "outputs": [],
   "source": [
    "def plot_slice_c(fdata,t): # channels\n",
    "    plt.imshow(fdata[:,:,20,t].T, cmap='gray')\n",
    "    plt.title('Slice at channel %d' % t)\n",
    "    plt.xlabel('First axis')\n",
    "    plt.ylabel('Second axis')\n",
    "    plt.colorbar(label='Signal intensity')\n",
    "    plt.show()\n",
    "\n",
    "#plot_slice_c(test_img_data,25)\n"
   ]
  },
  {
   "cell_type": "code",
   "execution_count": 23,
   "metadata": {},
   "outputs": [
    {
     "name": "stdout",
     "output_type": "stream",
     "text": [
      "<class 'numpy.ndarray'>\n"
     ]
    },
    {
     "data": {
      "text/plain": [
       "'\\nThe data is output as a numpy array, we will need to use Pillow, a python imaging library to save the array as an image.\\n'"
      ]
     },
     "execution_count": 23,
     "metadata": {},
     "output_type": "execute_result"
    }
   ],
   "source": [
    "# what kind of data is the fdata of the mri slice?\n",
    "slice_data = test_img_data[:,:,20,25]\n",
    "print(type(slice_data))\n",
    "#print(test_img_data[:,:,20,25])\n",
    "\n",
    "\"\"\"\n",
    "The data is output as a numpy array, we will need to use Pillow, a python imaging library to save the array as an image.\n",
    "\"\"\""
   ]
  },
  {
   "cell_type": "code",
   "execution_count": null,
   "metadata": {},
   "outputs": [],
   "source": [
    "slice_output = im.fromarray(slice_data) \n",
    "      \n",
    "slice_output.save('slice.png') "
   ]
  }
 ],
 "metadata": {
  "kernelspec": {
   "display_name": "keras-ADHD",
   "language": "python",
   "name": "python3"
  },
  "language_info": {
   "codemirror_mode": {
    "name": "ipython",
    "version": 3
   },
   "file_extension": ".py",
   "mimetype": "text/x-python",
   "name": "python",
   "nbconvert_exporter": "python",
   "pygments_lexer": "ipython3",
   "version": "3.8.18"
  }
 },
 "nbformat": 4,
 "nbformat_minor": 2
}
